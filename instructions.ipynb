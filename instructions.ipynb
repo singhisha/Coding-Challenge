{
 "cells": [
  {
   "cell_type": "markdown",
   "metadata": {},
   "source": [
    "A dummy test file called test.py is present in the folder to give an idea about how to use the module.\n",
    "\n",
    "The module name is challenge.py which needs to be imported.\n",
    "\n",
    "my_classifier() function call can be used to either train the classifier again  on the entire dataset and give back the classifier(see the commented code at line 13 in test.py). To just restore the model from it's pickle file use function load_classifier().\n",
    "The model is serialised in the file 'model.pkl'\n",
    "The encoder object for Target Encoding for categorical data is serialisd in the file 'encoder.pkl'.\n",
    "Both model.pkl and encoder.pkl should be present in the repository (either newly created by my_classifier() or the previous one committed with the code).\n",
    "\n",
    "The input test data should be in the form same as the input data which was used to train the classifier excluding the 'state' dependent feature. All the features should be in the same sequence as the training dataset provided initially. The sample is provided in the form of the file test_data.csv. Do not use the same file for testing the code.\n",
    "\n",
    "The following should be the feature sequence in the test file.\n",
    "ID, name, category, main_category, currency, deadline, goal, launched, pledged, backers, country, usd pledged,usd_pledged_real, usd_goal_real\n"
   ]
  }
 ],
 "metadata": {
  "kernelspec": {
   "display_name": "Python 3",
   "language": "python",
   "name": "python3"
  },
  "language_info": {
   "codemirror_mode": {
    "name": "ipython",
    "version": 3
   },
   "file_extension": ".py",
   "mimetype": "text/x-python",
   "name": "python",
   "nbconvert_exporter": "python",
   "pygments_lexer": "ipython3",
   "version": "3.6.6"
  }
 },
 "nbformat": 4,
 "nbformat_minor": 2
}
