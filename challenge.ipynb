{
 "cells": [
  {
   "cell_type": "markdown",
   "metadata": {},
   "source": [
    "# Challenge\n",
    "The idea behind this challenge is for you to explore the dataset, build a prediction model from it and then code a Python module that serves the model. Therefore there will be two main parts:\n",
    "\n",
    "1. Your Jupyter (IPython) notebook containing all your experiments, analyzes, and results. In this notebook, you will perform all your visualizations, data normalizations, training and evaluation of your model.\n",
    "2. A complete Python module ready to be used containing the model you trained. This module should be coded as if the engineering team would use it so it must contain usage instructions and a clear interface (generally speaking) to access your model.\n",
    "\n",
    "## The dataset\n",
    "Kickstarter is one of the main online crowdfunding platforms in the world. The dataset provided contains more de 300,000 projects launched on the platform in 2018. In the `data.csv` file there are the following columns:\n",
    "\n",
    "- **ID**: internal ID, _numeric_\n",
    "- **name**: name of the project, _string_\n",
    "- **category**: project's category, _string_\n",
    "- **main_category**: campaign's category, _string_\n",
    "- **currency**: project's currency, _string_\n",
    "- **deadline**: project's deadline date, _timestamp_\n",
    "- **goal**: fundraising goal, _numeric_\n",
    "- **launched**: project's start date, _timestamp_\n",
    "- **pledged**: amount pledged by backers (project's currency), _numeric_\n",
    "- **state**: project's current state, _string_; **this is what you have to predict**\n",
    "- **backers**: amount of poeple that backed the project, _numeric_\n",
    "- **country**: project's country, _string_\n",
    "- **usd pledged**: amount pledged by backers converted to USD (conversion made by KS), _numeric_\n",
    "- **usd_pledged_real**: amount pledged by backers converted to USD (conversion made by fixer.io api), _numeric_\n",
    "- **usd_goal_real**: fundraising goal is USD, _numeric_\n",
    "\n",
    "## Goal\n",
    "Your goal is to predict whether a project will be successful or not. It is entirely up to you which features you will use and which model. When it comes to performance metrics you should be able to say when the model is good enough. There are no minimum requirements or tricky conditions. What we are trying to evaluate is how you handle an unknown dataset in a classification task and your ability to deliver the results.\n",
    "\n",
    "## Deliverables\n",
    "Do not use this notebook for your submission. The expected outputs are:\n",
    "\n",
    "1. A Jupyter (IPython) notebook (that you have to create) containing your work and explanations. This is where you will put all your experiments, notes, visualizations and transformations in the data. This is also where you will prepare your data and train your prediction model.\n",
    "2. A Python module containing your model and functions to use to predict Kickstarter projects' state. Assume that in order to review your work an engineer will import this module and try to make some predictions so your model should be in it.\n",
    "3. A Markdown file containing usage instructions for your Python module. "
   ]
  }
 ],
 "metadata": {
  "kernelspec": {
   "display_name": "Python 3",
   "language": "python",
   "name": "python3"
  },
  "language_info": {
   "codemirror_mode": {
    "name": "ipython",
    "version": 3
   },
   "file_extension": ".py",
   "mimetype": "text/x-python",
   "name": "python",
   "nbconvert_exporter": "python",
   "pygments_lexer": "ipython3",
   "version": "3.6.6"
  }
 },
 "nbformat": 4,
 "nbformat_minor": 2
}
