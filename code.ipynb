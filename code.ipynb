{
 "cells": [
  {
   "cell_type": "code",
   "execution_count": 3,
   "metadata": {},
   "outputs": [],
   "source": [
    "import numpy as np\n",
    "import pandas as pd\n",
    "import matplotlib.pyplot as plt"
   ]
  },
  {
   "cell_type": "code",
   "execution_count": 4,
   "metadata": {},
   "outputs": [
    {
     "data": {
      "text/plain": [
       "ID                  False\n",
       "name                 True\n",
       "category            False\n",
       "main_category       False\n",
       "currency            False\n",
       "deadline            False\n",
       "goal                False\n",
       "launched            False\n",
       "pledged             False\n",
       "state               False\n",
       "backers             False\n",
       "country             False\n",
       "usd pledged          True\n",
       "usd_pledged_real    False\n",
       "usd_goal_real       False\n",
       "dtype: bool"
      ]
     },
     "execution_count": 4,
     "metadata": {},
     "output_type": "execute_result"
    }
   ],
   "source": [
    "# importing the dataset\n",
    "dataset = pd.read_csv(\"data.csv\")\n",
    "dataset.isnull().any()"
   ]
  },
  {
   "cell_type": "markdown",
   "metadata": {},
   "source": [
    "After analyzing the data, there were a few Nan values found. So the rows with Nan were removed beforehand."
   ]
  },
  {
   "cell_type": "code",
   "execution_count": 5,
   "metadata": {},
   "outputs": [
    {
     "data": {
      "text/plain": [
       "ID                  False\n",
       "name                False\n",
       "category            False\n",
       "main_category       False\n",
       "currency            False\n",
       "deadline            False\n",
       "goal                False\n",
       "launched            False\n",
       "pledged             False\n",
       "state               False\n",
       "backers             False\n",
       "country             False\n",
       "usd pledged         False\n",
       "usd_pledged_real    False\n",
       "usd_goal_real       False\n",
       "dtype: bool"
      ]
     },
     "execution_count": 5,
     "metadata": {},
     "output_type": "execute_result"
    }
   ],
   "source": [
    "# removing rows with NaN values\n",
    "dataset = dataset.dropna()\n",
    "dataset.isnull().any()"
   ]
  },
  {
   "cell_type": "markdown",
   "metadata": {},
   "source": [
    "After analyzing the features a new feature was added which was the number of days between the launch and the deadline. This feature is used in the model in place of 'launched' and 'deadline'."
   ]
  },
  {
   "cell_type": "code",
   "execution_count": 6,
   "metadata": {},
   "outputs": [],
   "source": [
    "# caluclating the number of days it took for completion of each project\n",
    "dataset['launched'] = pd.to_datetime(dataset['launched'])\n",
    "dataset['deadline'] = pd.to_datetime(dataset['deadline'])\n",
    "days = (dataset['deadline'] - dataset['launched'])\n",
    "dataset['days'] = days.astype('timedelta64[D]')\n",
    "X = dataset.iloc[:, [2, 3, 4, 6, 8, 10,12, 13, 14, 15]].values\n",
    "y = dataset.iloc[:, 9].values"
   ]
  },
  {
   "cell_type": "markdown",
   "metadata": {},
   "source": [
    "The dependent variable is made binary. Only the projects with 'successful' states are converted to 1, rest all states are asumed to be failed state and converted to 0."
   ]
  },
  {
   "cell_type": "code",
   "execution_count": 7,
   "metadata": {},
   "outputs": [],
   "source": [
    "# data preprocessing\n",
    "# Encoding the Dependent Variable\n",
    "y[y == 'successful'] = 1\n",
    "y[y != 1] = 0\n",
    "y = y.astype(float)"
   ]
  },
  {
   "cell_type": "markdown",
   "metadata": {},
   "source": [
    "To deal with the high cardinality of the categorical data, One-hot encoding wouldn't have been a good option. So, impact/target encoding is used to transform the categorical data in three columns of 'category', 'main_category' and 'currency'."
   ]
  },
  {
   "cell_type": "code",
   "execution_count": 8,
   "metadata": {},
   "outputs": [],
   "source": [
    "# Encoding categorical data\n",
    "import category_encoders as ce\n",
    "encoder = ce.TargetEncoder(X)\n",
    "encoder.fit(X, y)\n",
    "X = encoder.transform(X)"
   ]
  },
  {
   "cell_type": "markdown",
   "metadata": {},
   "source": [
    "The data is split into train and test data to see the correct accuracy of the model."
   ]
  },
  {
   "cell_type": "code",
   "execution_count": 9,
   "metadata": {},
   "outputs": [],
   "source": [
    "# Splitting the dataset into the Training set and Test set\n",
    "from sklearn.model_selection import train_test_split\n",
    "X_train, X_test, y_train, y_test = train_test_split(X, y, test_size = 0.20, random_state = 0)\n"
   ]
  },
  {
   "cell_type": "markdown",
   "metadata": {},
   "source": [
    "Since we are given sufficient amoount of data to train the model, I decided on using an Artificial Neural Network. This ANN consists of three layers (1 input, 1 output, 1 hidden layer). The value for batch_size and epoch is decided based on multiple runs of the code. The ANN is trained on the 80% of the dataset reserved as training set. We can see the training set accuracy in the end of this cell."
   ]
  },
  {
   "cell_type": "code",
   "execution_count": 10,
   "metadata": {},
   "outputs": [
    {
     "name": "stderr",
     "output_type": "stream",
     "text": [
      "/Users/ishaMac/anaconda3/lib/python3.6/site-packages/h5py/__init__.py:36: FutureWarning: Conversion of the second argument of issubdtype from `float` to `np.floating` is deprecated. In future, it will be treated as `np.float64 == np.dtype(float).type`.\n",
      "  from ._conv import register_converters as _register_converters\n",
      "Using TensorFlow backend.\n"
     ]
    }
   ],
   "source": [
    "import keras\n",
    "from keras.models import Sequential\n",
    "from keras.layers import Dense\n",
    "from keras.layers import Dropout"
   ]
  },
  {
   "cell_type": "code",
   "execution_count": 11,
   "metadata": {},
   "outputs": [
    {
     "name": "stderr",
     "output_type": "stream",
     "text": [
      "/Users/ishaMac/anaconda3/lib/python3.6/site-packages/ipykernel_launcher.py:7: UserWarning: Update your `Dropout` call to the Keras 2 API: `Dropout(rate=0.1)`\n",
      "  import sys\n",
      "/Users/ishaMac/anaconda3/lib/python3.6/site-packages/ipykernel_launcher.py:11: UserWarning: Update your `Dropout` call to the Keras 2 API: `Dropout(rate=0.1)`\n",
      "  # This is added back by InteractiveShellApp.init_path()\n"
     ]
    },
    {
     "name": "stdout",
     "output_type": "stream",
     "text": [
      "Epoch 1/20\n",
      "374860/374860 [==============================] - 95s 253us/step - loss: 0.1010 - acc: 0.9860\n",
      "Epoch 2/20\n",
      "374860/374860 [==============================] - 105s 279us/step - loss: 0.0780 - acc: 0.9911\n",
      "Epoch 3/20\n",
      "374860/374860 [==============================] - 89s 237us/step - loss: 0.0768 - acc: 0.9918\n",
      "Epoch 4/20\n",
      "374860/374860 [==============================] - 90s 241us/step - loss: 0.0716 - acc: 0.99260s - loss: 0.0717 - \n",
      "Epoch 5/20\n",
      "374860/374860 [==============================] - 92s 245us/step - loss: 0.0711 - acc: 0.9927\n",
      "Epoch 6/20\n",
      "374860/374860 [==============================] - 90s 240us/step - loss: 0.0713 - acc: 0.9930\n",
      "Epoch 7/20\n",
      "374860/374860 [==============================] - 89s 239us/step - loss: 0.0677 - acc: 0.9934\n",
      "Epoch 8/20\n",
      "374860/374860 [==============================] - 91s 241us/step - loss: 0.0670 - acc: 0.9934\n",
      "Epoch 9/20\n",
      "374860/374860 [==============================] - 90s 241us/step - loss: 0.0687 - acc: 0.9930\n",
      "Epoch 10/20\n",
      "374860/374860 [==============================] - 89s 238us/step - loss: 0.0664 - acc: 0.9935\n",
      "Epoch 11/20\n",
      "374860/374860 [==============================] - 85s 226us/step - loss: 0.0677 - acc: 0.9932\n",
      "Epoch 12/20\n",
      "374860/374860 [==============================] - 88s 234us/step - loss: 0.0673 - acc: 0.9932\n",
      "Epoch 13/20\n",
      "374860/374860 [==============================] - 91s 243us/step - loss: 0.0659 - acc: 0.9936\n",
      "Epoch 14/20\n",
      "374860/374860 [==============================] - 89s 238us/step - loss: 0.0657 - acc: 0.9937\n",
      "Epoch 15/20\n",
      "374860/374860 [==============================] - 88s 235us/step - loss: 0.0670 - acc: 0.9933\n",
      "Epoch 16/20\n",
      "374860/374860 [==============================] - 96s 257us/step - loss: 0.0669 - acc: 0.9932\n",
      "Epoch 17/20\n",
      "374860/374860 [==============================] - 113s 302us/step - loss: 0.0687 - acc: 0.9934\n",
      "Epoch 18/20\n",
      "374860/374860 [==============================] - 109s 292us/step - loss: 0.0654 - acc: 0.9933s - loss:\n",
      "Epoch 19/20\n",
      "374860/374860 [==============================] - 97s 259us/step - loss: 0.0674 - acc: 0.9937\n",
      "Epoch 20/20\n",
      "374860/374860 [==============================] - 91s 243us/step - loss: 0.0681 - acc: 0.9932\n"
     ]
    },
    {
     "data": {
      "text/plain": [
       "<keras.callbacks.History at 0x1524406cc0>"
      ]
     },
     "execution_count": 11,
     "metadata": {},
     "output_type": "execute_result"
    }
   ],
   "source": [
    "# Initialising the ANN\n",
    "classifier = Sequential()\n",
    "\n",
    "# Adding the input layer and the first hidden layer\n",
    "#Dense function is used to add a fully connected layer in ANN\n",
    "classifier.add(Dense(units = 6, kernel_initializer = 'uniform', activation = 'relu', input_dim = 10))\n",
    "classifier.add(Dropout(p = 0.1))\n",
    "\n",
    "# Adding the second hidden layer\n",
    "classifier.add(Dense(units = 6, kernel_initializer = 'uniform', activation = 'relu'))\n",
    "classifier.add(Dropout(p = 0.1))\n",
    "\n",
    "# Adding the output layer\n",
    "classifier.add(Dense(units = 1, kernel_initializer = 'uniform', activation = 'sigmoid'))\n",
    "\n",
    "# Compiling the ANN\n",
    "classifier.compile(optimizer = 'adam', loss = 'binary_crossentropy', metrics = ['accuracy'])\n",
    "\n",
    "# Fitting the ANN to the Training set\n",
    "classifier.fit(X, y, batch_size = 10, epochs = 20)\n"
   ]
  },
  {
   "cell_type": "markdown",
   "metadata": {},
   "source": [
    "The accuracy for all the epochs is above 98%. This could be because of overfitting. Let's check the accuracy for test set. \n",
    "20% of the dataset was reserved as test set to calculate the test set accuracy. "
   ]
  },
  {
   "cell_type": "code",
   "execution_count": 21,
   "metadata": {},
   "outputs": [
    {
     "name": "stdout",
     "output_type": "stream",
     "text": [
      "Confusion Matrix:\n",
      "[[48127   318]\n",
      " [    0 26527]]\n",
      "Accuracy:\n",
      "0.9957584164754841\n",
      "Precision, Recall, F-1 Score, Support for both the classses:\n",
      "(array([1.        , 0.98815422]), array([0.99343586, 1.        ]), array([0.99670712, 0.99404182]), array([48445, 26527]))\n"
     ]
    },
    {
     "data": {
      "image/png": "[encoded data removed]",
      "text/plain": [
       "<matplotlib.figure.Figure at 0x10de84668>"
      ]
     },
     "metadata": {},
     "output_type": "display_data"
    }
   ],
   "source": [
    "# Predicting the Test set results\n",
    "y_pred = classifier.predict(X_test)\n",
    "y_pred = (y_pred > 0.5)\n",
    "\n",
    "# Making the Confusion Matrix\n",
    "from sklearn.metrics import confusion_matrix, accuracy_score, precision_recall_fscore_support\n",
    "import seaborn as sns\n",
    "import matplotlib.pyplot as plt  \n",
    "cm = confusion_matrix(y_test, y_pred)\n",
    "print('Confusion Matrix:')\n",
    "print(cm)\n",
    "print('Accuracy:')\n",
    "print(accuracy_score(y_test, y_pred))\n",
    "print('Precision, Recall, F-1 Score, Support for both the classses:')\n",
    "print(precision_recall_fscore_support(y_test, y_pred))\n",
    "\n",
    "# plotting the Confusion Matrix\n",
    "ax= plt.subplot()\n",
    "sns.heatmap(cm, annot=True, fmt = \"d\", ax = ax, cbar = False); \n",
    "# labels, title and ticks\n",
    "ax.set_xlabel('Predicted labels');ax.set_ylabel('True labels'); \n",
    "ax.set_title('Confusion Matrix'); \n",
    "ax.xaxis.set_ticklabels(['Success', 'Failure']); ax.yaxis.set_ticklabels(['Success', 'Failure']);"
   ]
  },
  {
   "cell_type": "markdown",
   "metadata": {},
   "source": [
    "As we can see that we are getting an Accuracy of 99.5% on the test set. We can say that our model is working pretty on both Training and Test set and we can be sure that there is no overfitting."
   ]
  },
  {
   "cell_type": "markdown",
   "metadata": {},
   "source": [
    "This code is used just to check the accuracy of the model when it is restored from it's pickle file."
   ]
  },
  {
   "cell_type": "code",
   "execution_count": 78,
   "metadata": {},
   "outputs": [],
   "source": [
    "import pickle\n",
    "from keras.models import load_model\n",
    "\n",
    "classifier.save('model.pkl')\n",
    "classifier = load_model('model.pkl')\n"
   ]
  },
  {
   "cell_type": "code",
   "execution_count": 79,
   "metadata": {},
   "outputs": [
    {
     "name": "stdout",
     "output_type": "stream",
     "text": [
      "Confusion Matrix:\n",
      "[[48074   371]\n",
      " [    1 26526]]\n",
      "Accuracy:\n",
      "0.9950381475750947\n",
      "Precision, Recall, F-1 Score, Support for both the classses:\n",
      "(array([0.9999792 , 0.98620664]), array([0.99234183, 0.9999623 ]), array([0.99614588, 0.99303684]), array([48445, 26527]))\n"
     ]
    }
   ],
   "source": [
    "y_pred = classifier.predict(X_test)\n",
    "y_pred = (y_pred > 0.5)\n",
    "\n",
    "# Making the Confusion Matrix\n",
    "from sklearn.metrics import confusion_matrix, accuracy_score, precision_recall_fscore_support\n",
    "cm = confusion_matrix(y_test, y_pred)\n",
    "print('Confusion Matrix:')\n",
    "print(cm)\n",
    "print('Accuracy:')\n",
    "print(accuracy_score(y_test, y_pred))\n",
    "print('Precision, Recall, F-1 Score, Support for both the classses:')\n",
    "print(precision_recall_fscore_support(y_test, y_pred))\n"
   ]
  },
  {
   "cell_type": "code",
   "execution_count": null,
   "metadata": {},
   "outputs": [],
   "source": []
  }
 ],
 "metadata": {
  "kernelspec": {
   "display_name": "Python 3",
   "language": "python",
   "name": "python3"
  },
  "language_info": {
   "codemirror_mode": {
    "name": "ipython",
    "version": 3
   },
   "file_extension": ".py",
   "mimetype": "text/x-python",
   "name": "python",
   "nbconvert_exporter": "python",
   "pygments_lexer": "ipython3",
   "version": "3.6.6"
  }
 },
 "nbformat": 4,
 "nbformat_minor": 2
}
